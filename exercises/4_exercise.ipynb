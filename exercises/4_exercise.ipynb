{
 "cells": [
  {
   "cell_type": "code",
   "execution_count": null,
   "metadata": {},
   "outputs": [],
   "source": [
    "### If running this on Google Colab, uncomment and run the following lines:\n",
    "#!pip install netin\n",
    "#!wget -nc https://raw.githubusercontent.com/snma-tutorial/www2023/main/exercises/helper.py\n",
    "#!mkdir plots"
   ]
  },
  {
   "cell_type": "markdown",
   "metadata": {},
   "source": [
    "# Exercise \\#4"
   ]
  },
  {
   "cell_type": "markdown",
   "metadata": {},
   "source": [
    "Ranking inequalities"
   ]
  },
  {
   "cell_type": "markdown",
   "metadata": {},
   "source": [
    "## Dependencies"
   ]
  },
  {
   "cell_type": "code",
   "execution_count": null,
   "metadata": {
    "ExecuteTime": {
     "end_time": "2023-04-19T12:11:24.516661Z",
     "start_time": "2023-04-19T12:11:23.282362Z"
    },
    "pycharm": {
     "is_executing": true
    }
   },
   "outputs": [],
   "source": [
    "from netin import ...\n",
    "from netin import viz\n",
    "from netin import stats"
   ]
  },
  {
   "cell_type": "markdown",
   "metadata": {},
   "source": [
    "## Helpers"
   ]
  },
  {
   "cell_type": "code",
   "execution_count": null,
   "metadata": {
    "ExecuteTime": {
     "end_time": "2023-04-18T11:33:41.628167Z",
     "start_time": "2023-04-18T11:33:41.611106Z"
    }
   },
   "outputs": [],
   "source": [
    "%load_ext autoreload\n",
    "%autoreload 2\n",
    "\n",
    "import helper"
   ]
  },
  {
   "cell_type": "markdown",
   "metadata": {},
   "source": [
    "``` python\n",
    "# Returns some metadata for each node in a graph as a DataFrame\n",
    "Graph.get_node_metadata_as_dataframe(self, \n",
    "                                     include_graph_metadata=False, \n",
    "                                     n_jobs=1) -> pd.DataFrame\n",
    "```\n",
    "\n",
    "``` python\n",
    "# Plots the edge type counts of a single or a list of graphs\n",
    "helper.plot_edge_type_counts(data: Graph | list[Graph] | set[Graph], **kwargs)\n",
    "```\n",
    "\n",
    "``` python\n",
    "# Updates the name of a graph (by default it is the model name)\n",
    "helper.update_name_homophily(data: Graph | pd.DataFrame) -> str\n",
    "```\n",
    "\n",
    "``` python\n",
    "# Plots the probability density function\n",
    "viz.plot_powerlaw_fit(data: pd.DataFrame | list[pd.DataFrame], \n",
    "                      col_name: str | list[str], \n",
    "                      kind: str,\n",
    "                      fn: str = None, \n",
    "                      **kwargs)\n",
    "```\n",
    "\n",
    "``` python\n",
    "# Plots the inequity of a rank distribution\n",
    "viz.plot_fraction_of_minority(data: pd.DataFrame | List[pd.DataFrame], \n",
    "                              col_name: str | List,\n",
    "                              fn: str = None, \n",
    "                              **kwargs):\n",
    "```\n",
    "\n",
    "``` python \n",
    "# Plots the inequality of a rank distribution\n",
    "viz.plot_gini_coefficient(data: pd.DataFrame | List[pd.DataFrame], \n",
    "                          col_name: str | List,\n",
    "                          fn: str = None, \n",
    "                          **kwargs):\n",
    "```\n",
    "\n",
    "``` python\n",
    "# Plots the disparity (inequity vs. inequality) of a rank distribution\n",
    "viz.plot_disparity(data: pd.DataFrame | List[pd.DataFrame], \n",
    "                   col_name: str | List, \n",
    "                   fn: str = None, \n",
    "                   **kwargs):\n",
    "```"
   ]
  },
  {
   "cell_type": "markdown",
   "metadata": {},
   "source": [
    "# Directed graphs"
   ]
  },
  {
   "cell_type": "markdown",
   "metadata": {},
   "source": [
    "## Comparing the effect of homophily in ranking by pagerank\n",
    "- Create 9 `DPAH` graphs\n",
    "- Make sure all of them have the same number of nodes `n`, edge density `d`, fraction of minority `f_m`, activities `plo_M=plo_m`, and random seed `seed`.\n",
    "- Make sure they have different values of homophily `h_MM` and `h_mm` as follows:\n",
    "- -  Graphs 1-3: `h_MM=0.1` and `h_mm \\in {0.1, 0.5, 0.9}`\n",
    "- -  Graphs 4-6: `h_MM=0.5` and `h_mm \\in {0.1, 0.5, 0.9}`\n",
    "- -  Graphs 7-9: `h_MM=0.9` and `h_mm \\in {0.1, 0.5, 0.9}`\n",
    "- Plot the edge-type counts\n",
    "- Plot the probability density function of their `pagerank` distributions\n",
    "- Plot the `inequality` of the `pagerank`\n",
    "- Plot the `inequity` of the `pagerank`\n",
    "- Plot the `disparity` of the `pagerank`\n",
    "\n",
    "### Bonus: Comparing the effect of preferential attachment and homophily in ranking by pagerank\n",
    "- Generate 3 directed graphs; one for each model: `DPA`, `DH`, and `DPAH`\n",
    "- Make sure all of them have the same number of nodes `n`, edge density `d`, fraction of minority `f_m`, activities `plo_M=plo_m`, homophily `h_MM` and `h_mm`, and random seed `seed`, if applicable."
   ]
  },
  {
   "cell_type": "markdown",
   "metadata": {},
   "source": [
    "### Task 1. Generating graphs"
   ]
  },
  {
   "cell_type": "code",
   "execution_count": null,
   "metadata": {
    "ExecuteTime": {
     "end_time": "2023-04-18T11:33:41.641965Z",
     "start_time": "2023-04-18T11:33:41.630185Z"
    }
   },
   "outputs": [],
   "source": [
    "### Fix some parameters to later compare the effects of homophily\n",
    "\n",
    "n = ...     # number of nodes\n",
    "d = ...     # number of edges to attach to every source node\n",
    "            # Hint: Remember that the final number of edges will be: e = d * n (n-1)\n",
    "f_m = ...   # fraction of minority group\n",
    "plo_M = ... # powerlaw out_degree exponent of the majority group (activity)\n",
    "plo_m = ... # powerlaw out_degree exponent of the minority group (activity)\n",
    "seed = ...  # random seed (reproducibility)"
   ]
  },
  {
   "cell_type": "code",
   "execution_count": null,
   "metadata": {
    "ExecuteTime": {
     "end_time": "2023-04-18T11:33:43.130535Z",
     "start_time": "2023-04-18T11:33:41.644074Z"
    }
   },
   "outputs": [],
   "source": [
    "### Graphs\n",
    "\n",
    "homophily_values = [...]\n",
    "graphs = []\n",
    "metadata = []\n",
    "for h_MM in homophily_values: # homophily within majority nodes\n",
    "    for h_mm in homophily_values: # homophily within minority nodes\n",
    "\n",
    "        # generating graph\n",
    "        g = DPAH(...)\n",
    "        g.generate()\n",
    "        \n",
    "        # updating name to include homophily values\n",
    "        g.set_model_name(helper.update_name_homophily(...)) \n",
    "        graphs.append(g)\n",
    "\n",
    "        # generating node metadata dataframe\n",
    "        df = g.get_node_metadata_as_dataframe(include_graph_metadata=True)\n",
    "        metadata.append(df)\n"
   ]
  },
  {
   "cell_type": "markdown",
   "metadata": {},
   "source": [
    "### Task 2. Getting to know the data"
   ]
  },
  {
   "cell_type": "code",
   "execution_count": null,
   "metadata": {},
   "outputs": [],
   "source": [
    "### Setting the look & feel\n",
    "\n",
    "viz.reset_style()\n",
    "viz.set_paper_style()"
   ]
  },
  {
   "cell_type": "code",
   "execution_count": null,
   "metadata": {
    "ExecuteTime": {
     "end_time": "2023-04-18T11:34:25.621214Z",
     "start_time": "2023-04-18T11:33:56.074831Z"
    }
   },
   "outputs": [],
   "source": [
    "### Plotting al graphs at once\n",
    "### Showing 3 graphs per row\n",
    "\n",
    "viz.plot_graph(..., \n",
    "               nc = 3, \n",
    "               cell_size = 2.0,\n",
    "               wspace = 0.1,\n",
    "               fn = 'plots/4_all_graphs.pdf')"
   ]
  },
  {
   "cell_type": "markdown",
   "metadata": {},
   "source": [
    "### Task 3. Plotting edge-type counts"
   ]
  },
  {
   "cell_type": "code",
   "execution_count": null,
   "metadata": {
    "ExecuteTime": {
     "end_time": "2023-04-18T11:34:25.993788Z",
     "start_time": "2023-04-18T11:34:25.620480Z"
    }
   },
   "outputs": [],
   "source": [
    "### Plot edge counts for each graph\n",
    "\n",
    "helper.plot_edge_type_counts(..., \n",
    "                             figsize = (12,5),\n",
    "                             width_bar = 0.08,\n",
    "                             nc_legend = 3,\n",
    "                             loc = 'best',\n",
    "                             fn = 'plots/4_edge_counts.pdf')"
   ]
  },
  {
   "cell_type": "markdown",
   "metadata": {},
   "source": [
    "### Task 4. Plotting PDFs"
   ]
  },
  {
   "cell_type": "code",
   "execution_count": null,
   "metadata": {
    "ExecuteTime": {
     "end_time": "2023-04-18T11:34:27.936964Z",
     "start_time": "2023-04-18T11:34:26.046132Z"
    }
   },
   "outputs": [],
   "source": [
    "### Plot in_degree distribution of the whole graph\n",
    "### Hint: Check out the dataframe. Which column has the in_degree of the node?\n",
    "\n",
    "col_name = ...\n",
    "kind = ...\n",
    "\n",
    "viz.plot_powerlaw_fit(data = ..,\n",
    "                      col_name = col_name,\n",
    "                      kind = kind,\n",
    "                      sharex = True, \n",
    "                      sharey = True,\n",
    "                      cell_size = (2.5,2.5),\n",
    "                      wspace = 0.1,\n",
    "                      loc = 3,\n",
    "                      nc = 3,\n",
    "                      fn = f'plots/4_dpah_{col_name}.pdf')"
   ]
  },
  {
   "cell_type": "code",
   "execution_count": null,
   "metadata": {
    "ExecuteTime": {
     "end_time": "2023-04-18T11:34:29.949516Z",
     "start_time": "2023-04-18T11:34:27.938419Z"
    }
   },
   "outputs": [],
   "source": [
    "### Plot in_degree distribution of each group\n",
    "### Hint: Check out the dataframe. Which column has the class of the node?\n",
    "### M for majority, and m for minority.\n",
    "\n",
    "hue = 'class_label'\n",
    "\n",
    "viz.plot_powerlaw_fit(data = ...,\n",
    "                      col_name = col_name,\n",
    "                      kind = kind,\n",
    "                      hue = hue,\n",
    "                      sharex = True, \n",
    "                      sharey = True,\n",
    "                      cell_size = (2.5,2.5),\n",
    "                      wspace = 0.1,\n",
    "                      loc = 1,\n",
    "                      nc = 3,\n",
    "                      fontsize = 9,\n",
    "                      fn = f'plots/4_dpah_{col_name}_groups.pdf')"
   ]
  },
  {
   "cell_type": "markdown",
   "metadata": {
    "ExecuteTime": {
     "end_time": "2023-04-18T11:34:29.950711Z",
     "start_time": "2023-04-18T11:34:29.948716Z"
    }
   },
   "source": [
    "### Task 5. Plot Inequity"
   ]
  },
  {
   "cell_type": "code",
   "execution_count": null,
   "metadata": {},
   "outputs": [],
   "source": [
    "### Plot the inequity of the 'pagerank' distribution (ME: mean error)\n",
    "### It shows the fraction of minoritiy nodes (y-axis) at each top-k rank (x-axis)\n",
    "### Then, ME is computed as the difference between the fraction of minority nodes in each top-k \n",
    "### and the actual fraction of minorities.\n",
    "\n",
    "viz.plot_...(..., \n",
    "                              col_name=col_name, \n",
    "                              sharex=True, sharey=True,\n",
    "                              cell_size = (2.5,2.5),\n",
    "                              wspace = 0.1,\n",
    "                              nc = 3,\n",
    "                              fn = f'plots/4_dpah_{col_name}_inequality.pdf')"
   ]
  },
  {
   "cell_type": "markdown",
   "metadata": {},
   "source": [
    "### Task 6. Plot Inequality"
   ]
  },
  {
   "cell_type": "code",
   "execution_count": null,
   "metadata": {},
   "outputs": [],
   "source": [
    "### Plot the inequality of the 'pagerank' distribution\n",
    "### It shows the Gini coefficient in each top-k.\n",
    "### Also, the global gini refers to the Gini at top-100% \n",
    "\n",
    "viz.plot_...(metadata, \n",
    "                          col_name = col_name, \n",
    "                          sharex = True, sharey = True,\n",
    "                          nc = 3, \n",
    "                          wspace = 0.08, \n",
    "                          cell_size = (1.9,2.2),\n",
    "                          fn = f'plots/4_dpah_{col_name}_inequity.pdf')"
   ]
  },
  {
   "cell_type": "markdown",
   "metadata": {},
   "source": [
    "### Task 7. Plot Disparity"
   ]
  },
  {
   "cell_type": "code",
   "execution_count": null,
   "metadata": {},
   "outputs": [],
   "source": [
    "### Plot the disparity of the 'pagerank' distribution\n",
    "### It shows the inequity (ME) vs. inequality (Gini)\n",
    "\n",
    "viz.plot_...(metadata, \n",
    "                   col_name = col_name, \n",
    "                   sharex = True, sharey = True,\n",
    "                   nc = 3, \n",
    "                   wspace = 0.08, \n",
    "                   cell_size = (1.9,2.2),\n",
    "                   fn = f'plots/4_dpah_{col_name}_disparity.pdf')"
   ]
  },
  {
   "cell_type": "markdown",
   "metadata": {},
   "source": [
    "# Bonus: Disentangling the effect of PA and H in ranking disparities"
   ]
  },
  {
   "cell_type": "code",
   "execution_count": null,
   "metadata": {},
   "outputs": [],
   "source": [
    "### Parameters\n",
    "h_mm = ...\n",
    "h_MM = ...\n",
    "\n",
    "### Graphs\n",
    "g_dpa = DPA(...)\n",
    "g_dpa.generate()\n",
    "\n",
    "g_dh = DH(...)\n",
    "g_dh.generate()\n",
    "\n",
    "g_dpah = DPAH(...)\n",
    "g_dpah.generate()\n",
    "\n",
    "### Get node metadata\n",
    "metadata = [g_dh.get_node_metadata_as_dataframe(include_graph_metadata=True),\n",
    "             g_dpa.get_node_metadata_as_dataframe(include_graph_metadata=True),\n",
    "             g_dpah.get_node_metadata_as_dataframe(include_graph_metadata=True)]\n",
    "\n",
    "### Visualize\n",
    "viz.plot_disparity(..., \n",
    "                   col_name = ..., \n",
    "                   sharex = True, sharey = True,\n",
    "                   nc = 3, \n",
    "                   wspace = 0.08, \n",
    "                   cell_size = (1.9,2.2),\n",
    "                   fn = f'plots/4_dpa_dh_dpah_{col_name}_disparity.pdf')"
   ]
  }
 ],
 "metadata": {
  "kernelspec": {
   "display_name": "Python 3 (ipykernel)",
   "language": "python",
   "name": "python3"
  },
  "language_info": {
   "codemirror_mode": {
    "name": "ipython",
    "version": 3
   },
   "file_extension": ".py",
   "mimetype": "text/x-python",
   "name": "python",
   "nbconvert_exporter": "python",
   "pygments_lexer": "ipython3",
   "version": "3.9.16"
  }
 },
 "nbformat": 4,
 "nbformat_minor": 1
}
