{
 "cells": [
  {
   "cell_type": "markdown",
   "metadata": {},
   "source": [
    "# Exercise \\#3"
   ]
  },
  {
   "cell_type": "markdown",
   "metadata": {},
   "source": [
    "Sampling biases"
   ]
  },
  {
   "cell_type": "markdown",
   "metadata": {},
   "source": [
    "## Dependencies"
   ]
  },
  {
   "cell_type": "code",
   "execution_count": null,
   "metadata": {
    "ExecuteTime": {
     "end_time": "2023-04-19T12:11:24.516661Z",
     "start_time": "2023-04-19T12:11:23.282362Z"
    },
    "pycharm": {
     "is_executing": true
    }
   },
   "outputs": [],
   "source": [
    "from netin import *\n",
    "from netin import viz\n",
    "from netin import sampling\n",
    "from netin import stats"
   ]
  },
  {
   "cell_type": "markdown",
   "metadata": {},
   "source": [
    "## Helpers"
   ]
  },
  {
   "cell_type": "code",
   "execution_count": null,
   "metadata": {
    "ExecuteTime": {
     "end_time": "2023-04-18T11:33:41.628167Z",
     "start_time": "2023-04-18T11:33:41.611106Z"
    }
   },
   "outputs": [],
   "source": [
    "%load_ext autoreload\n",
    "%autoreload 2\n",
    "\n",
    "import helper"
   ]
  },
  {
   "cell_type": "markdown",
   "metadata": {},
   "source": [
    "``` python\n",
    "# Updates the name of a graph (by default it is the model name)\n",
    "helper.update_name_homophily(data: Graph | pd.DataFrame) -> str\n",
    "```\n",
    "\n",
    "\n",
    "``` python\n",
    "# Plots the original graphs (row=0) and the samples (row>=1)\n",
    "helper.plot_samples(originals: List[netin.Graph], samples: List[List[netin.Graph]], fn: str = None, **kwargs)\n",
    "```\n",
    "\n",
    "``` python\n",
    "# Loads the Facebook friends graph\n",
    "load_fb_data(path: str = 'data/fb_friends')\n",
    "``` "
   ]
  },
  {
   "cell_type": "markdown",
   "metadata": {},
   "source": [
    "# Directed networks"
   ]
  },
  {
   "cell_type": "markdown",
   "metadata": {},
   "source": [
    "## Comparing the effects of homophily  in sampling\n",
    "- Create 3 `DPAH` graphs\n",
    "- Make sure all of them have the same number of nodes `n`, edge density `d`, fraction of minority `f_m`, activities `plo_M` and `plo_m`, and random seed `seed`.\n",
    "- Make sure they have the same level of homophily within the majority group (e.g., `h_MM=0.5`) and vary only the homophily within the minority group, for example:\n",
    "  -  Graph 1: `h_MM=0.5` and `h_mm=0.1`\n",
    "  -  Graph 2: `h_MM=0.5` and `h_mm=0.5`\n",
    "  -  Graph 3: `h_MM=0.5` and `h_mm=0.9`\n",
    "- Make 6 random samples using the sampling techniques from `netin.sampling.*`\n",
    "  - Make sure they all have the same `pseeds` (sample size)\n",
    "- Plot the graphs and the samples.\n",
    "- Plot the representation of groups for each sample\n",
    "  - The CDF of the `in_degree` distribution and the CCDF of the `pagerank` distribution. \n",
    "  - Which sample looks closest to the full data? Does it depend on h?\n",
    "\n",
    "### Bonus: Replicate the same results with an empirical network\n",
    "- Load the `fb_friends` network.\n",
    "- Get to know the data (`.info()`)\n",
    "- Make a sample"
   ]
  },
  {
   "cell_type": "markdown",
   "metadata": {},
   "source": [
    "### Task 1. Generating graphs"
   ]
  },
  {
   "cell_type": "code",
   "execution_count": null,
   "metadata": {
    "ExecuteTime": {
     "end_time": "2023-04-18T11:33:41.641965Z",
     "start_time": "2023-04-18T11:33:41.630185Z"
    }
   },
   "outputs": [],
   "source": [
    "### Fix some parameters to later compare the effects of homophily\n",
    "\n",
    "n = ...     # number of nodes\n",
    "d = ...   # edge density\n",
    "f_m = ...   # fraction of minority\n",
    "plo_M = ... # power-law of out-degree distribution majority \n",
    "plo_m = ... # power-law of out-degree distribution minority\n",
    "h_MM = ...  # homophily majority\n",
    "seed = ... # random seed (reproducibility)"
   ]
  },
  {
   "cell_type": "code",
   "execution_count": null,
   "metadata": {
    "ExecuteTime": {
     "end_time": "2023-04-18T11:33:43.130535Z",
     "start_time": "2023-04-18T11:33:41.644074Z"
    }
   },
   "outputs": [],
   "source": [
    "### Graphs\n",
    "\n",
    "homophily_values = [...]\n",
    "graphs = []\n",
    "\n",
    "for h_mm in homophily_values: # homophily within each class\n",
    "    # generating graph\n",
    "    g = DPAH(n=n, d=d, f_m=f_m, h_MM=h_MM, h_mm=h_mm, plo_M=plo_M, plo_m=plo_m, seed=seed)\n",
    "    g.generate()\n",
    "\n",
    "    # updating name to include homophily values\n",
    "    g.set_model_name(helper.update_name_homophily(g)) \n",
    "    graphs.append(g)\n",
    "    "
   ]
  },
  {
   "cell_type": "markdown",
   "metadata": {},
   "source": [
    "### Task 2. Sampling"
   ]
  },
  {
   "cell_type": "code",
   "execution_count": null,
   "metadata": {},
   "outputs": [],
   "source": [
    "### Fix the sample size\n",
    "sample_size = ..."
   ]
  },
  {
   "cell_type": "markdown",
   "metadata": {},
   "source": [
    "#### 2.1 Random Nodes"
   ]
  },
  {
   "cell_type": "code",
   "execution_count": null,
   "metadata": {},
   "outputs": [],
   "source": [
    "### Genereting subgraphs\n",
    "### via sampling\n",
    "\n",
    "samples_nodes = []\n",
    "for g in graphs:\n",
    "    gs = sampling.<...>(g=g, pseeds=sample_size, random_seed=seed)\n",
    "    gs.sampling()\n",
    "    samples_nodes.append(gs.sample)\n",
    "    "
   ]
  },
  {
   "cell_type": "markdown",
   "metadata": {},
   "source": [
    "#### 2.2 Random Edges"
   ]
  },
  {
   "cell_type": "code",
   "execution_count": null,
   "metadata": {},
   "outputs": [],
   "source": [
    "### Genereting subgraphs\n",
    "### via sampling\n",
    "\n",
    "samples_edges = []\n",
    "for g in graphs:\n",
    "    gs = sampling.<...>(g=g, pseeds=sample_size, random_seed=seed)\n",
    "    gs.sampling()\n",
    "    samples_edges.append(gs.sample)\n"
   ]
  },
  {
   "cell_type": "markdown",
   "metadata": {},
   "source": [
    "#### 2.3 Random Neighbor"
   ]
  },
  {
   "cell_type": "code",
   "execution_count": null,
   "metadata": {},
   "outputs": [],
   "source": [
    "### Genereting subgraphs\n",
    "### via sampling\n",
    "\n",
    "samples_neighbor = []\n",
    "for g in graphs:\n",
    "    gs = sampling.<...>(g=g, pseeds=sample_size, random_seed=seed)\n",
    "    gs.sampling()\n",
    "    samples_neighbor.append(gs.sample)\n",
    "    "
   ]
  },
  {
   "cell_type": "markdown",
   "metadata": {},
   "source": [
    "#### 2.4 Degree Rank (asc)"
   ]
  },
  {
   "cell_type": "code",
   "execution_count": null,
   "metadata": {},
   "outputs": [],
   "source": [
    "samples_degree = []\n",
    "for g in graphs:\n",
    "    gs = sampling.<...>(g=g, pseeds=sample_size, random_seed=seed, order='desc')\n",
    "    gs.sampling()\n",
    "    samples_degree.append(gs.sample)\n",
    "    "
   ]
  },
  {
   "cell_type": "markdown",
   "metadata": {},
   "source": [
    "#### 2.5 Degree Group Rank (desc)"
   ]
  },
  {
   "cell_type": "code",
   "execution_count": null,
   "metadata": {},
   "outputs": [],
   "source": [
    "samples_group = []\n",
    "for g in graphs:\n",
    "    gs = sampling.<...>(g=g, pseeds=sample_size, random_seed=seed, order='desc')\n",
    "    gs.sampling()\n",
    "    samples_group.append(gs.sample)\n",
    "    "
   ]
  },
  {
   "cell_type": "markdown",
   "metadata": {},
   "source": [
    "#### 2.4 Partial Crawls"
   ]
  },
  {
   "cell_type": "code",
   "execution_count": null,
   "metadata": {},
   "outputs": [],
   "source": [
    "samples_crawls = []\n",
    "for g in graphs:\n",
    "    gs = sampling.<...>(g=g, pseeds=sample_size, random_seed=seed)\n",
    "    gs.sampling()\n",
    "    samples_crawls.append(gs.sample)\n",
    "    "
   ]
  },
  {
   "cell_type": "markdown",
   "metadata": {},
   "source": [
    "### Task 3. Visualize"
   ]
  },
  {
   "cell_type": "code",
   "execution_count": null,
   "metadata": {},
   "outputs": [],
   "source": [
    "### Setting the look & feel\n",
    "viz.reset_style()\n",
    "viz.set_paper_style()"
   ]
  },
  {
   "cell_type": "code",
   "execution_count": null,
   "metadata": {},
   "outputs": [],
   "source": [
    "### Plotting al graphs and samples at once\n",
    "### Showing 3 graphs per row\n",
    "\n",
    "samples = [samples_nodes, samples_edges, samples_neighbor, samples_degree, samples_group, samples_crawls]\n",
    "helper.plot_samples(..., \n",
    "                    ...,  \n",
    "                   figsize = (8, 15),\n",
    "                   edge_width = 0.1,\n",
    "                   wspace = 0.3,\n",
    "                   seed=seed,\n",
    "                   fn = 'plots/3_all_graphs_and_samples.pdf')\n"
   ]
  },
  {
   "cell_type": "markdown",
   "metadata": {},
   "source": [
    "### Task 4. Representation"
   ]
  },
  {
   "cell_type": "code",
   "execution_count": null,
   "metadata": {
    "scrolled": false
   },
   "outputs": [],
   "source": [
    "all_graphs = graphs + [s for ss in samples for s in ss]\n",
    "data = []\n",
    "for g in all_graphs:\n",
    "    tmp = g.get_node_metadata_as_dataframe(include_graph_metadata=True, n_jobs=1)\n",
    "    tmp.name = helper.get_title_graph(g)\n",
    "    data.append(tmp)"
   ]
  },
  {
   "cell_type": "code",
   "execution_count": null,
   "metadata": {
    "scrolled": false
   },
   "outputs": [],
   "source": [
    "### Plot CDF of in_degree distritbuion\n",
    "\n",
    "col_name = ...\n",
    "viz.plot_distribution(data, \n",
    "                      col_name=col_name,\n",
    "                      sharex=False, sharey=True,\n",
    "                      cell_size=(3,1.8),\n",
    "                      wspace = 0.15,\n",
    "                      nc = 3,\n",
    "                      get_x_y_from_df_fnc=stats.distributions.<...>\n",
    "                     )"
   ]
  },
  {
   "cell_type": "code",
   "execution_count": null,
   "metadata": {},
   "outputs": [],
   "source": [
    "### Plot CCDF of the pagerank distritbuion\n",
    "\n",
    "col_name = ...\n",
    "viz.plot_distribution(data, \n",
    "                      col_name=col_name,\n",
    "                      sharex=False, sharey=True,\n",
    "                      cell_size=(2.8, 1.8),\n",
    "                      wspace = 0.15,\n",
    "                      nc = 3,\n",
    "                      hue='class_label',\n",
    "                      get_x_y_from_df_fnc=stats.distributions.<...>\n",
    "                     )"
   ]
  },
  {
   "cell_type": "markdown",
   "metadata": {},
   "source": [
    "# Bonus "
   ]
  },
  {
   "cell_type": "code",
   "execution_count": null,
   "metadata": {},
   "outputs": [],
   "source": [
    "gfb = helper.<...>()"
   ]
  },
  {
   "cell_type": "code",
   "execution_count": null,
   "metadata": {},
   "outputs": [],
   "source": [
    "sample_size = ...\n",
    "seed = ...\n",
    "gs = sampling.<...>(g=gfb, pseeds=sample_size, random_seed=seed)\n",
    "gs.sampling()"
   ]
  },
  {
   "cell_type": "code",
   "execution_count": null,
   "metadata": {},
   "outputs": [],
   "source": [
    "viz.plot_graph([gs.g, gs.sample], share_pos=True)"
   ]
  },
  {
   "cell_type": "code",
   "execution_count": null,
   "metadata": {},
   "outputs": [],
   "source": []
  }
 ],
 "metadata": {
  "kernelspec": {
   "display_name": "Python 3 (ipykernel)",
   "language": "python",
   "name": "python3"
  },
  "language_info": {
   "codemirror_mode": {
    "name": "ipython",
    "version": 3
   },
   "file_extension": ".py",
   "mimetype": "text/x-python",
   "name": "python",
   "nbconvert_exporter": "python",
   "pygments_lexer": "ipython3",
   "version": "3.9.16"
  }
 },
 "nbformat": 4,
 "nbformat_minor": 1
}
