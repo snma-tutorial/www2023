{
 "cells": [
  {
   "cell_type": "code",
   "execution_count": null,
   "metadata": {
    "pycharm": {
     "is_executing": true
    }
   },
   "outputs": [],
   "source": [
    "### If running this on Google Colab, uncomment and run the following lines:\n",
    "#!pip install netin\n",
    "#!wget -nc https://raw.githubusercontent.com/snma-tutorial/www2023/main/exercises/helper.py\n",
    "#!mkdir plots"
   ]
  },
  {
   "cell_type": "markdown",
   "metadata": {},
   "source": [
    "# Exercise \\#1"
   ]
  },
  {
   "cell_type": "markdown",
   "metadata": {},
   "source": [
    "Generating synthetic networks using the `netin` package"
   ]
  },
  {
   "cell_type": "markdown",
   "metadata": {},
   "source": [
    "## Dependencies"
   ]
  },
  {
   "cell_type": "code",
   "execution_count": null,
   "metadata": {
    "ExecuteTime": {
     "end_time": "2023-04-17T14:16:57.770043Z",
     "start_time": "2023-04-17T14:16:57.724911Z"
    },
    "pycharm": {
     "is_executing": true
    }
   },
   "outputs": [],
   "source": [
    "from netin import ...\n",
    "from netin import viz\n",
    "from netin import stats\n",
    "\n",
    "### If a RuntimeError occurs related to numpy, just ignore it ;-)"
   ]
  },
  {
   "cell_type": "markdown",
   "metadata": {},
   "source": [
    "## Helpers"
   ]
  },
  {
   "cell_type": "code",
   "execution_count": null,
   "metadata": {
    "ExecuteTime": {
     "end_time": "2023-04-17T14:00:24.895768Z",
     "start_time": "2023-04-17T14:00:24.894846Z"
    }
   },
   "outputs": [],
   "source": [
    "%load_ext autoreload\n",
    "%autoreload 2\n",
    "\n",
    "import helper"
   ]
  },
  {
   "cell_type": "markdown",
   "metadata": {},
   "source": [
    "``` python\n",
    "# Returns some metadata for each node in a graph as a DataFrame\n",
    "Graph.get_node_metadata_as_dataframe(self, \n",
    "                                     include_graph_metadata=False, \n",
    "                                     n_jobs=1) -> pd.DataFrame\n",
    "```\n",
    "\n",
    "``` python\n",
    "# Plots the edge type counts of a single or a list of graphs\n",
    "helper.plot_edge_type_counts(data: Graph | list[Graph] | set[Graph], **kwargs)\n",
    "```\n",
    "\n",
    "``` python\n",
    "# Updates the name of a graph (by default it is the model name)\n",
    "helper.update_name_homophily(data: Graph | pd.DataFrame) -> str\n",
    "```\n",
    "\n",
    "``` python\n",
    "# Plots the probability density function\n",
    "viz.plot_powerlaw_fit(data: pd.DataFrame | list[pd.DataFrame], \n",
    "                      col_name: str | list[str], \n",
    "                      kind: str,\n",
    "                      fn=None, \n",
    "                      **kwargs)\n",
    "```"
   ]
  },
  {
   "cell_type": "markdown",
   "metadata": {},
   "source": [
    "# Undirected graphs"
   ]
  },
  {
   "cell_type": "markdown",
   "metadata": {},
   "source": [
    "## Comparing the effect of homophily\n",
    "- Create 3 `PAH` networks\n",
    "- Make sure all of them have the same number of nodes `n`, minimum degree `k`, fraction of minority `f_m`, and random seed `seed`.\n",
    "- Make sure they have different values of homophily `h_MM` and `h_mm`\n",
    "- Plot the edge-type counts\n",
    "- Plot the probability density function of their degree distributions"
   ]
  },
  {
   "cell_type": "markdown",
   "metadata": {},
   "source": [
    "### Task 1. Generating graphs"
   ]
  },
  {
   "cell_type": "code",
   "execution_count": null,
   "metadata": {
    "ExecuteTime": {
     "end_time": "2023-04-17T14:00:24.966122Z",
     "start_time": "2023-04-17T14:00:24.895406Z"
    }
   },
   "outputs": [],
   "source": [
    "### Fix some parameters to later compare the effects of homophily\n",
    "\n",
    "n = ...     # number of nodes\n",
    "k = ...     # number of edges to attach to every source node\n",
    "f_m = ...   # fraction of minority group\n",
    "seed = ...  # random seed (reproducibility)"
   ]
  },
  {
   "cell_type": "code",
   "execution_count": null,
   "metadata": {
    "ExecuteTime": {
     "end_time": "2023-04-17T14:00:26.402771Z",
     "start_time": "2023-04-17T14:00:24.944121Z"
    }
   },
   "outputs": [],
   "source": [
    "### Graph #1\n",
    "\n",
    "h_MM = ...  # homophily within majority nodes\n",
    "h_mm = ...  # homophily within minority nodes\n",
    "\n",
    "g_pah_1 = PAH(...)\n",
    "g_pah_1.generate()\n",
    "df_pah_1 = g_pah_1.get_node_metadata_as_dataframe(include_graph_metadata=True)"
   ]
  },
  {
   "cell_type": "code",
   "execution_count": null,
   "metadata": {
    "ExecuteTime": {
     "end_time": "2023-04-17T14:00:27.884903Z",
     "start_time": "2023-04-17T14:00:26.403807Z"
    }
   },
   "outputs": [],
   "source": [
    "### Graph #2\n",
    "\n",
    "h_MM = ...  # homophily within majority nodes\n",
    "h_mm = ...  # homophily within minority nodes\n",
    "\n",
    "g_pah_2 = PAH(...)\n",
    "g_pah_2.generate()\n",
    "df_pah_2 = g_pah_2.get_node_metadata_as_dataframe(include_graph_metadata=True)"
   ]
  },
  {
   "cell_type": "code",
   "execution_count": null,
   "metadata": {
    "ExecuteTime": {
     "end_time": "2023-04-17T14:00:29.377222Z",
     "start_time": "2023-04-17T14:00:27.886019Z"
    }
   },
   "outputs": [],
   "source": [
    "### Graph #3\n",
    "\n",
    "h_MM = ...  # homophily within majority nodes\n",
    "h_mm = ...  # homophily within minority nodes\n",
    "\n",
    "g_pah_3 = PAH(...)\n",
    "g_pah_3.generate()\n",
    "df_pah_3 = g_pah_3.get_node_metadata_as_dataframe(include_graph_metadata=True)"
   ]
  },
  {
   "cell_type": "markdown",
   "metadata": {},
   "source": [
    "### Task 2. Getting to know the data"
   ]
  },
  {
   "cell_type": "code",
   "execution_count": null,
   "metadata": {},
   "outputs": [],
   "source": [
    "### Checking the attribute \"graph\" from the PAH object\n",
    "\n",
    "g_pah_1.graph"
   ]
  },
  {
   "cell_type": "code",
   "execution_count": null,
   "metadata": {},
   "outputs": [],
   "source": [
    "### Checking the name of the model used to create this graph\n",
    "### This value never changes, unless you set it manually\n",
    "\n",
    "g_pah_1.graph['model']"
   ]
  },
  {
   "cell_type": "code",
   "execution_count": null,
   "metadata": {},
   "outputs": [],
   "source": [
    "### Checking the name of the graph and node metadata dataframe.\n",
    "### These attributes are used to show titles in the plots\n",
    "\n",
    "g_pah_1.get_model_name(), df_pah_1.name"
   ]
  },
  {
   "cell_type": "code",
   "execution_count": null,
   "metadata": {},
   "outputs": [],
   "source": [
    "### Checking the type of object\n",
    "\n",
    "type(g_pah_1)"
   ]
  },
  {
   "cell_type": "code",
   "execution_count": null,
   "metadata": {},
   "outputs": [],
   "source": [
    "### Checking if the PAH object is also a networkx.Graph object\n",
    "\n",
    "import networkx as nx\n",
    "isinstance(g_pah_1, nx.Graph)"
   ]
  },
  {
   "cell_type": "code",
   "execution_count": null,
   "metadata": {},
   "outputs": [],
   "source": [
    "### Checking how to count the type of edges\n",
    "\n",
    "g_pah_1.calculate_edge_type_counts()"
   ]
  },
  {
   "cell_type": "code",
   "execution_count": null,
   "metadata": {},
   "outputs": [],
   "source": [
    "### Plotting a single graph and saving the figure in the plots/ folder\n",
    "\n",
    "viz.plot_graph(..., fn = 'plots/1_graph_1.pdf')"
   ]
  },
  {
   "cell_type": "code",
   "execution_count": null,
   "metadata": {},
   "outputs": [],
   "source": [
    "### Updating the name of the graphs to show (besides the model name)\n",
    "### the homophily values.\n",
    "\n",
    "g_pah_1.set_model_name(helper.update_name_homophily(...))\n",
    "g_pah_2.set_model_name(helper.update_name_homophily(...))\n",
    "g_pah_3.set_model_name(helper.update_name_homophily(...))\n",
    "\n",
    "### Plotting al graphs at once\n",
    "\n",
    "data = [g_pah_1, g_pah_2, g_pah_3]\n",
    "viz.plot_graph(..., fn = 'plots/1_all_graphs.pdf')"
   ]
  },
  {
   "cell_type": "markdown",
   "metadata": {},
   "source": [
    "### Task 3. Plotting edge-type counts"
   ]
  },
  {
   "cell_type": "code",
   "execution_count": null,
   "metadata": {},
   "outputs": [],
   "source": [
    "### Plot edge counts for each graph\n",
    "\n",
    "helper.plot_edge_type_counts(..., fn = 'plots/1_edge_counts.pdf')"
   ]
  },
  {
   "cell_type": "markdown",
   "metadata": {},
   "source": [
    "### Task 4. Plotting PDFs"
   ]
  },
  {
   "cell_type": "code",
   "execution_count": null,
   "metadata": {},
   "outputs": [],
   "source": [
    "### Setting the look & feel\n",
    "\n",
    "viz.reset_style()\n",
    "viz.set_paper_style()"
   ]
  },
  {
   "cell_type": "code",
   "execution_count": null,
   "metadata": {},
   "outputs": [],
   "source": [
    "### First, rename dataframes (setting it to the new name of the graphs)\n",
    "\n",
    "df_pah_1.name = g_pah_1.get_model_name()\n",
    "df_pah_2.name = g_pah_2.get_model_name()\n",
    "df_pah_3.name = g_pah_3.get_model_name()"
   ]
  },
  {
   "cell_type": "code",
   "execution_count": null,
   "metadata": {},
   "outputs": [],
   "source": [
    "### We have now changed the model name in both, the graph and dataframe.\n",
    "### Let's take a look to these attributes again.\n",
    "### Notice that the value for the key 'model' in the 'graph' attribute of the PAH object did not change!\n",
    "\n",
    "g_pah_1.graph['model'], g_pah_1.get_model_name(), df_pah_1.name"
   ]
  },
  {
   "cell_type": "code",
   "execution_count": null,
   "metadata": {},
   "outputs": [],
   "source": [
    "### Plot the probability density function of the degree distribution of the whole graph\n",
    "### Hint: Check out the dataframe. Which column has the degree of the node?\n",
    "\n",
    "data = [df_pah_1, df_pah_2, df_pah_3]\n",
    "x = ...\n",
    "kind = 'pdf'\n",
    "\n",
    "viz.plot_...(data = data, \n",
    "                      col_name = x, \n",
    "                      kind=kind,\n",
    "                      sharex = True, \n",
    "                      sharey = True,\n",
    "                      cell_size = (3.,3.5),\n",
    "                      wspace = 0.1,\n",
    "                      loc = 3,\n",
    "                      fn = 'plots/1_pah_degree.pdf')"
   ]
  },
  {
   "cell_type": "code",
   "execution_count": null,
   "metadata": {},
   "outputs": [],
   "source": [
    "### Plot the probability density function of the degree distribution of each group\n",
    "### Hint: Check out the dataframe. Which column has the class of the node?\n",
    "### M for majority, and m for minority.\n",
    "\n",
    "hue = ...\n",
    "\n",
    "viz.plot_...(data = data, \n",
    "                      col_name = x, \n",
    "                      kind = kind,\n",
    "                      hue = hue,\n",
    "                      sharex = True, \n",
    "                      sharey = True,\n",
    "                      cell_size = (2.8,3.3),\n",
    "                      wspace = 0.1,\n",
    "                      loc = 1,\n",
    "                      fontsize = 9,\n",
    "                      fn = 'plots/1_pah_degree_groups.pdf')"
   ]
  },
  {
   "cell_type": "code",
   "execution_count": null,
   "metadata": {},
   "outputs": [],
   "source": []
  }
 ],
 "metadata": {
  "kernelspec": {
   "display_name": "Python 3 (ipykernel)",
   "language": "python",
   "name": "python3"
  },
  "language_info": {
   "codemirror_mode": {
    "name": "ipython",
    "version": 3
   },
   "file_extension": ".py",
   "mimetype": "text/x-python",
   "name": "python",
   "nbconvert_exporter": "python",
   "pygments_lexer": "ipython3",
   "version": "3.9.16"
  }
 },
 "nbformat": 4,
 "nbformat_minor": 1
}
