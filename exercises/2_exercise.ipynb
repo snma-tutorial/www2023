{
 "cells": [
  {
   "cell_type": "code",
   "execution_count": null,
   "metadata": {},
   "outputs": [],
   "source": [
    "#If running under collab, uncomment and run this cell.\n",
    "\n",
    "#!echo \"deb http://downloads.skewed.de/apt focal main\" >> /etc/apt/sources.list\n",
    "#!apt-key adv --keyserver keyserver.ubuntu.com --recv-key 612DEFB798507F25\n",
    "#!apt-get update\n",
    "#!apt-get install python3-graph-tool python3-matplotlib python3-cairo\n",
    "#!apt purge python3-cairo\n",
    "#!apt install libcairo2-dev pkg-config python3-dev\n",
    "#!pip install --force-reinstall pycairo\n",
    "#!pip install zstandard\n",
    "#!mkdir data\n",
    "#!wget https://github.com/snma-tutorial/www2023/blob/main/exercises/data/example.gt.gz -P data/"
   ]
  },
  {
   "cell_type": "markdown",
   "metadata": {},
   "source": [
    "Homophily and triadic closure inference with graph-tool\n",
    "==============================================\n",
    "\n",
    "https://graph-tool.skewed.de/\n",
    "\n",
    "You should familiarize yourself with ``graph-tool`` by reading the quick start guide: https://graph-tool.skewed.de/static/doc/quickstart.html\n",
    "\n",
    "A detailed HOWTO for network inference is available at: https://graph-tool.skewed.de/static/doc/demos/inference/inference.html"
   ]
  },
  {
   "cell_type": "code",
   "execution_count": null,
   "metadata": {},
   "outputs": [],
   "source": [
    "from graph_tool.all import *\n",
    "import numpy"
   ]
  },
  {
   "cell_type": "code",
   "execution_count": null,
   "metadata": {},
   "outputs": [],
   "source": [
    "# load a simple example network\n",
    "\n",
    "g = collection.ns[\"facebook_friends\"]\n",
    "graph_draw(g, g.vp._pos);"
   ]
  },
  {
   "cell_type": "code",
   "execution_count": null,
   "metadata": {},
   "outputs": [],
   "source": [
    "# We can infer homophily by fitting a “planted partition” SBM\n",
    "state = PPBlockState(g)\n",
    "state.multiflip_mcmc_sweep(niter=1000, beta=numpy.inf);"
   ]
  },
  {
   "cell_type": "code",
   "execution_count": null,
   "metadata": {},
   "outputs": [],
   "source": [
    "# let's visualize the inferred latent homophilic classes as colors:\n",
    "state.draw(pos=g.vp._pos)"
   ]
  },
  {
   "cell_type": "markdown",
   "metadata": {},
   "source": [
    "# Evaluating uncertainty\n",
    "What is the probability that node belongs to a group?"
   ]
  },
  {
   "cell_type": "code",
   "execution_count": null,
   "metadata": {},
   "outputs": [],
   "source": [
    "# Let's evaluate the uncertainty of our inference\n",
    "\n",
    "state.multiflip_mcmc_sweep(niter=1000)\n",
    "bs = [] # we will collect many partitions here\n",
    "for i in range(1000):\n",
    "    state.multiflip_mcmc_sweep(niter=10)\n",
    "    bs.append(state.b.a.copy())\n",
    "ps = PartitionModeState(bs, converge=True)  # this will take care of aligning the group labels\n",
    "pv = ps.get_marginal(g)"
   ]
  },
  {
   "cell_type": "code",
   "execution_count": null,
   "metadata": {},
   "outputs": [],
   "source": [
    "state.draw(pos=g.vp._pos, vertex_shape=\"pie\", vertex_pie_fractions=pv);"
   ]
  },
  {
   "cell_type": "code",
   "execution_count": null,
   "metadata": {},
   "outputs": [],
   "source": []
  },
  {
   "cell_type": "markdown",
   "metadata": {},
   "source": [
    "## Exercise\n",
    "\n",
    "Consider the following network:"
   ]
  },
  {
   "cell_type": "code",
   "execution_count": null,
   "metadata": {
    "scrolled": false
   },
   "outputs": [],
   "source": [
    "g = load_graph(\"data/example.gt.gz\")\n",
    "graph_draw(g, pos=g.vp.pos, output_size=(400, 400));"
   ]
  },
  {
   "cell_type": "markdown",
   "metadata": {},
   "source": [
    "1. Just by looking at the drawing, without running any code, can you guess how many homphilic groups/communities are there in this network?\n",
    "2. Compare your guess with what you find for the SBM.\n",
    "3. Compare the previous result with modularity maximization. (You can do modularity maximization with graph-tool just like with the SBM, but using instead a ``ModularityState`` object, which behaves like a ``PPBlockState`` object.)\n",
    "4. Which result do you prefer? Can you justifythem?"
   ]
  },
  {
   "cell_type": "code",
   "execution_count": null,
   "metadata": {},
   "outputs": [],
   "source": []
  },
  {
   "cell_type": "markdown",
   "metadata": {},
   "source": [
    "### Exercise\n",
    "\n",
    "Consider the following network:\n",
    "\n",
    "\n"
   ]
  },
  {
   "cell_type": "code",
   "execution_count": null,
   "metadata": {},
   "outputs": [],
   "source": [
    "g = collection.data[\"football\"]\n",
    "u = g.copy()\n",
    "random_rewire(u, n_iter=100); # u is now a random graph with the same degrees as g"
   ]
  },
  {
   "cell_type": "markdown",
   "metadata": {},
   "source": [
    "1. Find the groups/communities using the SBM for ``g`` and ``u``.\n",
    "2. Do the same using modularity maximization.\n",
    "3. How many groups do you find in each case? Can you interpret the results?"
   ]
  },
  {
   "cell_type": "code",
   "execution_count": null,
   "metadata": {},
   "outputs": [],
   "source": []
  },
  {
   "cell_type": "markdown",
   "metadata": {},
   "source": [
    "# Homophily or triadic closure?"
   ]
  },
  {
   "cell_type": "code",
   "execution_count": null,
   "metadata": {},
   "outputs": [],
   "source": [
    "g = collection.ns[\"facebook_friends\"]\n",
    "graph_draw(g, g.vp._pos);"
   ]
  },
  {
   "cell_type": "code",
   "execution_count": null,
   "metadata": {},
   "outputs": [],
   "source": [
    "# We disentangle both mechanisms by using the SBM/TC model, as such\n",
    "\n",
    "state = LatentClosureBlockState(g, L=6, nested=False)\n",
    "\n",
    "#now we need to run MCMC\n",
    "\n",
    "for i in range(1000):\n",
    "    state.mcmc_sweep(niter=10)"
   ]
  },
  {
   "cell_type": "code",
   "execution_count": null,
   "metadata": {},
   "outputs": [],
   "source": [
    "# We ned to sample a bit from the posterior distribution\n",
    "\n",
    "us = None             # marginal posterior graphs\n",
    "bs = []               # partitions\n",
    "\n",
    "for i in range(100):\n",
    "    state.mcmc_sweep(niter=10)\n",
    "    us = state.collect_marginal(us)\n",
    "    bs.append(state.bstate.b.a.copy())\n",
    "\n",
    "u = us[0]             # marginal seminal edges\n",
    "\n",
    "# Disambiguate partitions and obtain marginals\n",
    "pmode = PartitionModeState(bs, converge=True)\n",
    "pv = pmode.get_marginal(u)\n",
    "\n",
    "# Consider the marginal graph\n",
    "bstate = state.bstate.copy(g=u)\n",
    "\n"
   ]
  },
  {
   "cell_type": "code",
   "execution_count": null,
   "metadata": {},
   "outputs": [],
   "source": [
    "# let's visualize the results\n",
    "\n",
    "import matplotlib.colors\n",
    "\n",
    "# edge width\n",
    "ew = u.ep.eprob.copy()\n",
    "ew.a = abs(ew.a - .5)\n",
    "\n",
    "# get a color map\n",
    "clrs = [(1, 0, 0, 1.0),\n",
    "        (0, 0, 0, 1.0)]\n",
    "red_cm = matplotlib.colors.LinearSegmentedColormap.from_list(\"Set3\", clrs)\n",
    "\n",
    "# draw red edge last\n",
    "eorder = u.ep.eprob.copy()\n",
    "eorder.a *= -1\n",
    "\n",
    "print(u.ep.eprob.fa.min())\n",
    "\n",
    "bstate.draw(pos=u.own_property(g.vp._pos), vertex_shape=\"pie\", vertex_pie_fractions=pv, vertex_size=8,\n",
    "            edge_pen_width=prop_to_size(ew, .5, 3, power=1),\n",
    "            edge_gradient=None, edge_color=u.ep.eprob, ecmap=red_cm,\n",
    "            eorder=eorder, output_size=(800, 800))"
   ]
  },
  {
   "cell_type": "code",
   "execution_count": null,
   "metadata": {},
   "outputs": [],
   "source": [
    "#let's evaluate how much of homophily is responsible for triangle formation\n",
    "print(\"Total network:\", global_clustering(g))\n",
    "u = state.us[0].copy()\n",
    "remove_self_loops(u)\n",
    "print(\"Homophilic layer:\", global_clustering(u))"
   ]
  },
  {
   "cell_type": "code",
   "execution_count": null,
   "metadata": {},
   "outputs": [],
   "source": [
    "# A large fraction of triangles can be explained by homophily (in this case)!"
   ]
  },
  {
   "cell_type": "markdown",
   "metadata": {},
   "source": [
    "## Excecise\n",
    "Let the MCMC above run for a longer time, and observe the number of triadic closures to increase.\n"
   ]
  },
  {
   "cell_type": "code",
   "execution_count": null,
   "metadata": {},
   "outputs": [],
   "source": []
  }
 ],
 "metadata": {
  "kernelspec": {
   "display_name": "Python 3 (ipykernel)",
   "language": "python",
   "name": "python3"
  },
  "language_info": {
   "codemirror_mode": {
    "name": "ipython",
    "version": 3
   },
   "file_extension": ".py",
   "mimetype": "text/x-python",
   "name": "python",
   "nbconvert_exporter": "python",
   "pygments_lexer": "ipython3",
   "version": "3.10.10"
  }
 },
 "nbformat": 4,
 "nbformat_minor": 4
}
